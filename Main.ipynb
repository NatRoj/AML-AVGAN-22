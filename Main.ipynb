{
  "nbformat": 4,
  "nbformat_minor": 0,
  "metadata": {
    "colab": {
      "name": "Main.ipynb",
      "provenance": [],
      "include_colab_link": true
    },
    "kernelspec": {
      "name": "python3",
      "display_name": "Python 3"
    },
    "language_info": {
      "name": "python"
    }
  },
  "cells": [
    {
      "cell_type": "markdown",
      "metadata": {
        "id": "view-in-github",
        "colab_type": "text"
      },
      "source": [
        "<a href=\"https://colab.research.google.com/github/NatRoj/AML-AVGAN-22/blob/main/Main.ipynb\" target=\"_parent\"><img src=\"https://colab.research.google.com/assets/colab-badge.svg\" alt=\"Open In Colab\"/></a>"
      ]
    },
    {
      "cell_type": "code",
      "source": [
        "!pip install SimpleITK"
      ],
      "metadata": {
        "id": "RbRrFWOT59s1",
        "outputId": "fe538c32-9218-4804-ecfd-7b883325333a",
        "colab": {
          "base_uri": "https://localhost:8080/"
        }
      },
      "execution_count": 10,
      "outputs": [
        {
          "output_type": "stream",
          "name": "stdout",
          "text": [
            "Requirement already satisfied: SimpleITK in /usr/local/lib/python3.7/dist-packages (2.1.1)\n"
          ]
        }
      ]
    },
    {
      "cell_type": "code",
      "source": [
        "import SimpleITK as sitk\n",
        "import numpy as np\n",
        "import matplotlib.pyplot as plt"
      ],
      "metadata": {
        "id": "2K04y0Lz5k9r"
      },
      "execution_count": 11,
      "outputs": []
    },
    {
      "cell_type": "code",
      "execution_count": null,
      "metadata": {
        "id": "fjOIozh241Fs"
      },
      "outputs": [],
      "source": [
        "# C:\\Users\\seyhosseini\\Desktop\\AV\\jupyter\\files\\OneDriveShared\n",
        "imfn = \"image1.nii.gz\" # image filename\n",
        "im = sitk.ReadImage(imfn)\n",
        "\n",
        "vssmskfn = \"image1-vessels.nii.gz\" # vessel mask filename\n",
        "vssmsk = sitk.ReadImage(vssmskfn)"
      ]
    },
    {
      "cell_type": "code",
      "source": [
        "imnd = sitk.GetArrayFromImage(im)\n",
        "vsnd = sitk.GetArrayFromImage(vssmsk)\n",
        "\n",
        "fig ,ax = plt.subplots(1,2,figsize=(8,8))\n",
        "ax[0].imshow(imnd[300]) # 300th slice\n",
        "ax[1].imshow(vsnd[300]) # 300th slice"
      ],
      "metadata": {
        "colab": {
          "base_uri": "https://localhost:8080/",
          "height": 245
        },
        "id": "iTp1p4Ph5mrq",
        "outputId": "07ffc905-8406-40c6-bf04-d01e475afca1"
      },
      "execution_count": 40,
      "outputs": [
        {
          "output_type": "error",
          "ename": "NameError",
          "evalue": "ignored",
          "traceback": [
            "\u001b[0;31m---------------------------------------------------------------------------\u001b[0m",
            "\u001b[0;31mNameError\u001b[0m                                 Traceback (most recent call last)",
            "\u001b[0;32m<ipython-input-40-56b9839f10b8>\u001b[0m in \u001b[0;36m<module>\u001b[0;34m()\u001b[0m\n\u001b[0;32m----> 1\u001b[0;31m \u001b[0mimnd\u001b[0m \u001b[0;34m=\u001b[0m \u001b[0msitk\u001b[0m\u001b[0;34m.\u001b[0m\u001b[0mGetArrayFromImage\u001b[0m\u001b[0;34m(\u001b[0m\u001b[0mim\u001b[0m\u001b[0;34m)\u001b[0m\u001b[0;34m\u001b[0m\u001b[0;34m\u001b[0m\u001b[0m\n\u001b[0m\u001b[1;32m      2\u001b[0m \u001b[0mvsnd\u001b[0m \u001b[0;34m=\u001b[0m \u001b[0msitk\u001b[0m\u001b[0;34m.\u001b[0m\u001b[0mGetArrayFromImage\u001b[0m\u001b[0;34m(\u001b[0m\u001b[0mvssmsk\u001b[0m\u001b[0;34m)\u001b[0m\u001b[0;34m\u001b[0m\u001b[0;34m\u001b[0m\u001b[0m\n\u001b[1;32m      3\u001b[0m \u001b[0;34m\u001b[0m\u001b[0m\n\u001b[1;32m      4\u001b[0m \u001b[0mfig\u001b[0m \u001b[0;34m,\u001b[0m\u001b[0max\u001b[0m \u001b[0;34m=\u001b[0m \u001b[0mplt\u001b[0m\u001b[0;34m.\u001b[0m\u001b[0msubplots\u001b[0m\u001b[0;34m(\u001b[0m\u001b[0;36m1\u001b[0m\u001b[0;34m,\u001b[0m\u001b[0;36m2\u001b[0m\u001b[0;34m,\u001b[0m\u001b[0mfigsize\u001b[0m\u001b[0;34m=\u001b[0m\u001b[0;34m(\u001b[0m\u001b[0;36m8\u001b[0m\u001b[0;34m,\u001b[0m\u001b[0;36m8\u001b[0m\u001b[0;34m)\u001b[0m\u001b[0;34m)\u001b[0m\u001b[0;34m\u001b[0m\u001b[0;34m\u001b[0m\u001b[0m\n\u001b[1;32m      5\u001b[0m \u001b[0max\u001b[0m\u001b[0;34m[\u001b[0m\u001b[0;36m0\u001b[0m\u001b[0;34m]\u001b[0m\u001b[0;34m.\u001b[0m\u001b[0mimshow\u001b[0m\u001b[0;34m(\u001b[0m\u001b[0mimnd\u001b[0m\u001b[0;34m[\u001b[0m\u001b[0;36m300\u001b[0m\u001b[0;34m]\u001b[0m\u001b[0;34m)\u001b[0m \u001b[0;31m# 300th slice\u001b[0m\u001b[0;34m\u001b[0m\u001b[0;34m\u001b[0m\u001b[0m\n",
            "\u001b[0;31mNameError\u001b[0m: name 'im' is not defined"
          ]
        }
      ]
    },
    {
      "cell_type": "code",
      "source": [
        "# Some useful functions to later possibly use:\n",
        "# vssmskbin = sitk.Threshold(vssmsk, lower = 0, upper = 1, outsideValue = 1) # vessel mask made binary # values 0&1 might be wrong\n",
        "# immasked = sitk.Mask(im, vssmskbin, maskingValue = 0, outsideValue = -1024) # image masked\n",
        "# sitk.WriteImage(im,outfilename)"
      ],
      "metadata": {
        "id": "215mpiFWaBDl"
      },
      "execution_count": null,
      "outputs": []
    },
    {
      "cell_type": "code",
      "source": [
        "import torch\n",
        "from torch import nn\n",
        "from torch import optim\n",
        "import torch.nn.functional as F\n",
        "import torchvision.transforms as T"
      ],
      "metadata": {
        "id": "EnhmINDrgCGA"
      },
      "execution_count": 29,
      "outputs": []
    },
    {
      "cell_type": "code",
      "source": [
        "class Block(nn.Module):\n",
        "  def __init__(self,inCh,outCh):\n",
        "    super(Block,self).__init__()\n",
        "\n",
        "    self.conv1 = nn.Conv2d(inCh,outCh,kernel_size=3)\n",
        "    self.conv2 = nn.Conv2d(outCh,outCh,kernel_size=3)\n",
        "\n",
        "  def forward(self,x):\n",
        "    x = self.conv1(x)\n",
        "    x = F.relu(x)\n",
        "    x = self.conv2(x)\n",
        "    x = F.relu(x)\n",
        "\n",
        "    return x"
      ],
      "metadata": {
        "id": "6ktnHTUDh875"
      },
      "execution_count": 18,
      "outputs": []
    },
    {
      "cell_type": "code",
      "source": [
        "enc_block = Block(1,64)\n",
        "x = torch.randn(1,1,572,572)\n",
        "enc_block(x).shape"
      ],
      "metadata": {
        "id": "HTt7Cbj0pNGj",
        "outputId": "e6b8f0d1-65e8-41f8-bea6-58e5dfcb9e1f",
        "colab": {
          "base_uri": "https://localhost:8080/"
        }
      },
      "execution_count": 19,
      "outputs": [
        {
          "output_type": "execute_result",
          "data": {
            "text/plain": [
              "torch.Size([1, 64, 568, 568])"
            ]
          },
          "metadata": {},
          "execution_count": 19
        }
      ]
    },
    {
      "cell_type": "code",
      "source": [
        "class Enc(nn.Module):\n",
        "  def __init__(self,channels=(3,64,128,256,512,1024)):\n",
        "    super(Enc,self).__init__()\n",
        "\n",
        "    self.encBlocks = nn.ModuleList([Block(channels[i],channels[i+1]) for i in range(len(channels)-1)])\n",
        "\n",
        "    self.pool = nn.MaxPool2d(kernel_size=2)\n",
        "\n",
        "  def forward(self,x):\n",
        "    trans = []\n",
        "    for blocks in self.encBlocks:\n",
        "      x = blocks(x)\n",
        "      trans.append(x)\n",
        "      x = self.pool(x)\n",
        "\n",
        "    return trans"
      ],
      "metadata": {
        "id": "yITB69dFpjPj"
      },
      "execution_count": 27,
      "outputs": []
    },
    {
      "cell_type": "code",
      "source": [
        "enc = Enc()\n",
        "x = torch.randn(1,3,572,572)\n",
        "trans = enc(x)\n",
        "for i in trans: print(i.shape)"
      ],
      "metadata": {
        "id": "E21LGqRntNBn",
        "outputId": "e0ee892c-d788-4bfd-ab06-95d37b9c3fb3",
        "colab": {
          "base_uri": "https://localhost:8080/"
        }
      },
      "execution_count": 28,
      "outputs": [
        {
          "output_type": "stream",
          "name": "stdout",
          "text": [
            "torch.Size([1, 64, 568, 568])\n",
            "torch.Size([1, 128, 280, 280])\n",
            "torch.Size([1, 256, 136, 136])\n",
            "torch.Size([1, 512, 64, 64])\n",
            "torch.Size([1, 1024, 28, 28])\n"
          ]
        }
      ]
    },
    {
      "cell_type": "code",
      "source": [
        "class Dec(nn.Module):\n",
        "  def __init__(self,channels=(1024,512,256,128,64)):\n",
        "    super(Dec,self).__init__()\n",
        "    self.channels = channels\n",
        "    self.upconv = nn.ModuleList([nn.ConvTranspose2d(channels[i],channels[i+1],kernel_size=2,stride=2) for i in range(len(channels)-1)])\n",
        "    self.decBlocks = nn.ModuleList([Block(channels[i],channels[i+1]) for i in range(len(channels)-1)])\n",
        "\n",
        "  def forward(self,x,encFeat):\n",
        "    for i in range(len(self.channels)-1):\n",
        "      x = self.upconv[i](x)\n",
        "      encTrans = self.crop(encFeat[i],x)\n",
        "      x = torch.cat([x,encTrans],dim=1)\n",
        "      x = self.decBlocks[i](x)\n",
        "    return x\n",
        "\n",
        "  def crop(self,encTrans,x):\n",
        "    _,_,H,W = x.shape\n",
        "    encTrans = T.CenterCrop([H,W])(encTrans)\n",
        "    return encTrans"
      ],
      "metadata": {
        "id": "oFJqGAUkv0Vm"
      },
      "execution_count": 33,
      "outputs": []
    },
    {
      "cell_type": "code",
      "source": [
        "dec = Dec()\n",
        "x = torch.randn(1,1024,28,28)\n",
        "dec(x,trans[::-1][1:]).shape"
      ],
      "metadata": {
        "id": "Ac8y_-vDxmqq",
        "outputId": "f6c446b4-b31e-49dd-8374-4279cecf75f2",
        "colab": {
          "base_uri": "https://localhost:8080/"
        }
      },
      "execution_count": 34,
      "outputs": [
        {
          "output_type": "execute_result",
          "data": {
            "text/plain": [
              "torch.Size([1, 64, 388, 388])"
            ]
          },
          "metadata": {},
          "execution_count": 34
        }
      ]
    },
    {
      "cell_type": "code",
      "source": [
        "class UNet(nn.Module):\n",
        "  def __init__(\n",
        "      self,\n",
        "      encChannels = (3,64,128,256,512,1024),\n",
        "      decChannels = (1024,512,256,128,64),\n",
        "      numClass = 1,\n",
        "      retainDim = False,\n",
        "      outSize = (572,572)\n",
        "  ):\n",
        "    super(UNet,self).__init__()\n",
        "    \n",
        "    self.enc = Enc(encChannels)\n",
        "    self.dec = Dec(decChannels)\n",
        "    self.head = nn.Conv2d(decChannels[-1],numClass,1)\n",
        "    self.retainDim = retainDim\n",
        "    self.outSize = outSize\n",
        "\n",
        "  def forward(self,x):\n",
        "    encTrans = self.enc(x)\n",
        "    out = self.dec(encTrans[::-1][0], encTrans[::-1][1:])\n",
        "    out = self.head(out)\n",
        "    \n",
        "    if self.retainDim:\n",
        "      out = F.interpoalate(out,self.outSize)\n",
        "    return out"
      ],
      "metadata": {
        "id": "y0FoQzPdyC78"
      },
      "execution_count": 38,
      "outputs": []
    },
    {
      "cell_type": "code",
      "source": [
        "unet = UNet()\n",
        "x = torch.randn(1,3,572,572)\n",
        "unet(x).shape"
      ],
      "metadata": {
        "id": "X0frnsLezPSH",
        "outputId": "7901761f-5247-453a-8e4d-0ae3b4eb8fc6",
        "colab": {
          "base_uri": "https://localhost:8080/"
        }
      },
      "execution_count": 39,
      "outputs": [
        {
          "output_type": "execute_result",
          "data": {
            "text/plain": [
              "torch.Size([1, 1, 388, 388])"
            ]
          },
          "metadata": {},
          "execution_count": 39
        }
      ]
    }
  ]
}